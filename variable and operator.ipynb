{
 "cells": [
  {
   "cell_type": "code",
   "execution_count": 1,
   "id": "501626ad",
   "metadata": {},
   "outputs": [
    {
     "name": "stdout",
     "output_type": "stream",
     "text": [
      "python\n"
     ]
    }
   ],
   "source": [
    "print(\"python\")\n"
   ]
  },
  {
   "cell_type": "code",
   "execution_count": 2,
   "id": "d33f9f6d",
   "metadata": {},
   "outputs": [],
   "source": [
    "a = 2 \n",
    "b = 3\n",
    "\n",
    "c = a + b"
   ]
  },
  {
   "cell_type": "code",
   "execution_count": 3,
   "id": "0adea08f",
   "metadata": {},
   "outputs": [
    {
     "data": {
      "text/plain": [
       "5"
      ]
     },
     "execution_count": 3,
     "metadata": {},
     "output_type": "execute_result"
    }
   ],
   "source": [
    "c"
   ]
  },
  {
   "cell_type": "code",
   "execution_count": 4,
   "id": "08d07656",
   "metadata": {},
   "outputs": [
    {
     "data": {
      "text/plain": [
       "int"
      ]
     },
     "execution_count": 4,
     "metadata": {},
     "output_type": "execute_result"
    }
   ],
   "source": [
    "type(c)"
   ]
  },
  {
   "cell_type": "code",
   "execution_count": 5,
   "id": "28e013af",
   "metadata": {},
   "outputs": [],
   "source": [
    "z = \"rabin\""
   ]
  },
  {
   "cell_type": "code",
   "execution_count": 6,
   "id": "e75a687b",
   "metadata": {},
   "outputs": [
    {
     "data": {
      "text/plain": [
       "'rabin'"
      ]
     },
     "execution_count": 6,
     "metadata": {},
     "output_type": "execute_result"
    }
   ],
   "source": [
    "z"
   ]
  },
  {
   "cell_type": "code",
   "execution_count": 7,
   "id": "1ec51288",
   "metadata": {},
   "outputs": [],
   "source": [
    "z = 'rabin' #single quotes and double quotes are same "
   ]
  },
  {
   "cell_type": "code",
   "execution_count": 8,
   "id": "a5f7e22a",
   "metadata": {},
   "outputs": [
    {
     "data": {
      "text/plain": [
       "'rabin'"
      ]
     },
     "execution_count": 8,
     "metadata": {},
     "output_type": "execute_result"
    }
   ],
   "source": [
    "z"
   ]
  },
  {
   "cell_type": "code",
   "execution_count": 9,
   "id": "c304ac00",
   "metadata": {},
   "outputs": [],
   "source": [
    "#integer are numbers"
   ]
  },
  {
   "cell_type": "code",
   "execution_count": 10,
   "id": "d054a5bc",
   "metadata": {},
   "outputs": [],
   "source": [
    "#python is a dynamic language, where there find datatype of their own\n",
    "#python it is reinitialize the variable"
   ]
  },
  {
   "cell_type": "code",
   "execution_count": 12,
   "id": "cc2ae84a",
   "metadata": {},
   "outputs": [
    {
     "name": "stdout",
     "output_type": "stream",
     "text": [
      "rabin\n"
     ]
    }
   ],
   "source": [
    "print (\"rabin\")"
   ]
  },
  {
   "cell_type": "code",
   "execution_count": null,
   "id": "6a326f7e",
   "metadata": {},
   "outputs": [],
   "source": []
  },
  {
   "cell_type": "code",
   "execution_count": 14,
   "id": "e6ad3057",
   "metadata": {},
   "outputs": [],
   "source": [
    "# int a \n",
    "# float b "
   ]
  },
  {
   "cell_type": "code",
   "execution_count": 15,
   "id": "31e5ba0d",
   "metadata": {},
   "outputs": [],
   "source": [
    "# what is static type of programming ?\n",
    "# what is dynamic type og programming language?"
   ]
  },
  {
   "cell_type": "code",
   "execution_count": 16,
   "id": "b9bcee87",
   "metadata": {},
   "outputs": [],
   "source": [
    "#tools#vscode,spyder, notepad"
   ]
  },
  {
   "cell_type": "code",
   "execution_count": 17,
   "id": "3a6b4185",
   "metadata": {},
   "outputs": [
    {
     "data": {
      "text/plain": [
       "2.5"
      ]
     },
     "execution_count": 17,
     "metadata": {},
     "output_type": "execute_result"
    }
   ],
   "source": [
    "5/2\n"
   ]
  },
  {
   "cell_type": "code",
   "execution_count": 18,
   "id": "2b8731c8",
   "metadata": {},
   "outputs": [
    {
     "data": {
      "text/plain": [
       "2"
      ]
     },
     "execution_count": 18,
     "metadata": {},
     "output_type": "execute_result"
    }
   ],
   "source": [
    "5//2  #floor division"
   ]
  },
  {
   "cell_type": "code",
   "execution_count": 20,
   "id": "c6eff210",
   "metadata": {},
   "outputs": [
    {
     "data": {
      "text/plain": [
       "1"
      ]
     },
     "execution_count": 20,
     "metadata": {},
     "output_type": "execute_result"
    }
   ],
   "source": [
    "3%2 #% mod operator, it will give u remainder"
   ]
  },
  {
   "cell_type": "code",
   "execution_count": 19,
   "id": "09c84b1a",
   "metadata": {},
   "outputs": [],
   "source": [
    "#ctrl+/ comment multiple line"
   ]
  },
  {
   "cell_type": "code",
   "execution_count": 21,
   "id": "5aac3e0d",
   "metadata": {},
   "outputs": [],
   "source": [
    "a =1"
   ]
  },
  {
   "cell_type": "code",
   "execution_count": 22,
   "id": "3a653680",
   "metadata": {},
   "outputs": [
    {
     "data": {
      "text/plain": [
       "1"
      ]
     },
     "execution_count": 22,
     "metadata": {},
     "output_type": "execute_result"
    }
   ],
   "source": [
    "a"
   ]
  },
  {
   "cell_type": "code",
   "execution_count": 23,
   "id": "635449e2",
   "metadata": {},
   "outputs": [],
   "source": [
    "b = 3"
   ]
  },
  {
   "cell_type": "code",
   "execution_count": 24,
   "id": "124a8b9b",
   "metadata": {},
   "outputs": [
    {
     "data": {
      "text/plain": [
       "3"
      ]
     },
     "execution_count": 24,
     "metadata": {},
     "output_type": "execute_result"
    }
   ],
   "source": [
    "b"
   ]
  },
  {
   "cell_type": "code",
   "execution_count": 25,
   "id": "378e74d1",
   "metadata": {},
   "outputs": [],
   "source": [
    "c = 4"
   ]
  },
  {
   "cell_type": "code",
   "execution_count": 26,
   "id": "72add3df",
   "metadata": {},
   "outputs": [
    {
     "data": {
      "text/plain": [
       "4"
      ]
     },
     "execution_count": 26,
     "metadata": {},
     "output_type": "execute_result"
    }
   ],
   "source": [
    "c"
   ]
  },
  {
   "cell_type": "code",
   "execution_count": 27,
   "id": "586b450c",
   "metadata": {},
   "outputs": [],
   "source": [
    "a , b , c = 2, 3, 4\n"
   ]
  },
  {
   "cell_type": "code",
   "execution_count": 28,
   "id": "4c2def6b",
   "metadata": {},
   "outputs": [
    {
     "data": {
      "text/plain": [
       "2"
      ]
     },
     "execution_count": 28,
     "metadata": {},
     "output_type": "execute_result"
    }
   ],
   "source": [
    "a\n"
   ]
  },
  {
   "cell_type": "code",
   "execution_count": 29,
   "id": "ce8d17f1",
   "metadata": {},
   "outputs": [
    {
     "data": {
      "text/plain": [
       "3"
      ]
     },
     "execution_count": 29,
     "metadata": {},
     "output_type": "execute_result"
    }
   ],
   "source": [
    "b"
   ]
  },
  {
   "cell_type": "code",
   "execution_count": 30,
   "id": "151c64f7",
   "metadata": {},
   "outputs": [
    {
     "data": {
      "text/plain": [
       "4"
      ]
     },
     "execution_count": 30,
     "metadata": {},
     "output_type": "execute_result"
    }
   ],
   "source": [
    "c"
   ]
  },
  {
   "cell_type": "code",
   "execution_count": 31,
   "id": "641d1416",
   "metadata": {},
   "outputs": [],
   "source": [
    "#what is operator and operand\n",
    "# operator = -,  +, /, *\n",
    "# operand = operation like a + b, a-b, a/b,a*b"
   ]
  },
  {
   "cell_type": "code",
   "execution_count": 32,
   "id": "3cfe68ce",
   "metadata": {},
   "outputs": [],
   "source": [
    "#arithmetic operation ? use the float value\n",
    "# addition , subtraction ,multiplication , division ,floor division, mod , on float value\n",
    "\n",
    "# c1 = 5.6\n",
    "# c2 = 9.0"
   ]
  },
  {
   "cell_type": "code",
   "execution_count": 33,
   "id": "1d37b123",
   "metadata": {},
   "outputs": [],
   "source": [
    "#answers \n",
    "\n",
    "#addition\n",
    "c1 = 5.6\n",
    "c2 = 9.0\n",
    "s = c1 + c2\n"
   ]
  },
  {
   "cell_type": "code",
   "execution_count": 34,
   "id": "a15ece80",
   "metadata": {},
   "outputs": [
    {
     "data": {
      "text/plain": [
       "14.6"
      ]
     },
     "execution_count": 34,
     "metadata": {},
     "output_type": "execute_result"
    }
   ],
   "source": [
    "s\n"
   ]
  },
  {
   "cell_type": "code",
   "execution_count": 35,
   "id": "fc3a0fa8",
   "metadata": {},
   "outputs": [],
   "source": [
    "#substraction\n",
    "c1 = 5.6\n",
    "c2 = 9.0\n",
    "s = c1 - c2\n"
   ]
  },
  {
   "cell_type": "code",
   "execution_count": 36,
   "id": "939414c2",
   "metadata": {},
   "outputs": [
    {
     "data": {
      "text/plain": [
       "-3.4000000000000004"
      ]
     },
     "execution_count": 36,
     "metadata": {},
     "output_type": "execute_result"
    }
   ],
   "source": [
    "s"
   ]
  },
  {
   "cell_type": "code",
   "execution_count": 37,
   "id": "5d7a238d",
   "metadata": {},
   "outputs": [],
   "source": [
    "#multiplication\n",
    "c1 = 2.6\n",
    "c2 = 5.5\n",
    "m = c1 * c2"
   ]
  },
  {
   "cell_type": "code",
   "execution_count": 39,
   "id": "f58af3bb",
   "metadata": {},
   "outputs": [
    {
     "name": "stdout",
     "output_type": "stream",
     "text": [
      "14.3\n"
     ]
    }
   ],
   "source": [
    "print(m)"
   ]
  },
  {
   "cell_type": "code",
   "execution_count": 40,
   "id": "964ab54c",
   "metadata": {},
   "outputs": [],
   "source": [
    "#division\n",
    "c1 = 6.7\n",
    "c2 = 2.1\n",
    "D = c1 / c2"
   ]
  },
  {
   "cell_type": "code",
   "execution_count": 41,
   "id": "9d6cbdc3",
   "metadata": {},
   "outputs": [
    {
     "name": "stdout",
     "output_type": "stream",
     "text": [
      "3.1904761904761902\n"
     ]
    }
   ],
   "source": [
    "print(D)"
   ]
  },
  {
   "cell_type": "code",
   "execution_count": 42,
   "id": "22938799",
   "metadata": {},
   "outputs": [],
   "source": [
    "#floor division\n",
    "c1 = 6.7\n",
    "c2 = 2.1\n",
    "FD = c1 // c2\n"
   ]
  },
  {
   "cell_type": "code",
   "execution_count": 43,
   "id": "e3846e40",
   "metadata": {},
   "outputs": [
    {
     "name": "stdout",
     "output_type": "stream",
     "text": [
      "3.0\n"
     ]
    }
   ],
   "source": [
    "print(FD)"
   ]
  },
  {
   "cell_type": "code",
   "execution_count": 44,
   "id": "9117f34b",
   "metadata": {},
   "outputs": [],
   "source": [
    "#mod\n",
    "c1 = 3.4\n",
    "c2 = 2.4\n",
    "mod = c1 % c2\n"
   ]
  },
  {
   "cell_type": "code",
   "execution_count": 45,
   "id": "0b82431d",
   "metadata": {},
   "outputs": [
    {
     "data": {
      "text/plain": [
       "1.0"
      ]
     },
     "execution_count": 45,
     "metadata": {},
     "output_type": "execute_result"
    }
   ],
   "source": [
    "mod\n"
   ]
  },
  {
   "cell_type": "code",
   "execution_count": null,
   "id": "34abfb40",
   "metadata": {},
   "outputs": [],
   "source": []
  }
 ],
 "metadata": {
  "kernelspec": {
   "display_name": "Python 3 (ipykernel)",
   "language": "python",
   "name": "python3"
  },
  "language_info": {
   "codemirror_mode": {
    "name": "ipython",
    "version": 3
   },
   "file_extension": ".py",
   "mimetype": "text/x-python",
   "name": "python",
   "nbconvert_exporter": "python",
   "pygments_lexer": "ipython3",
   "version": "3.11.4"
  }
 },
 "nbformat": 4,
 "nbformat_minor": 5
}
